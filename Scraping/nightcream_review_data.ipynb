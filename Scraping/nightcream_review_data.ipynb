{
 "metadata": {
  "language_info": {
   "codemirror_mode": {
    "name": "ipython",
    "version": 3
   },
   "file_extension": ".py",
   "mimetype": "text/x-python",
   "name": "python",
   "nbconvert_exporter": "python",
   "pygments_lexer": "ipython3",
   "version": "3.7.6-final"
  },
  "orig_nbformat": 2,
  "kernelspec": {
   "name": "Python 3.7.6 64-bit ('base': conda)",
   "display_name": "Python 3.7.6 64-bit ('base': conda)",
   "metadata": {
    "interpreter": {
     "hash": "183bbf6827d058c2a2fb0f4acdc0420849dda2b4380af0e437e38c64d798d8b7"
    }
   }
  }
 },
 "nbformat": 4,
 "nbformat_minor": 2,
 "cells": [
  {
   "cell_type": "code",
   "execution_count": 1,
   "metadata": {},
   "outputs": [],
   "source": [
    "import pandas as pd\n",
    "import numpy as np\n",
    "from bs4 import BeautifulSoup\n",
    "from selenium import webdriver\n",
    "from time import sleep"
   ]
  },
  {
   "cell_type": "code",
   "execution_count": 2,
   "metadata": {},
   "outputs": [],
   "source": [
    "username = []\n",
    "skincond = []\n",
    "recommend = []\n",
    "datereview = []\n",
    "review = []\n",
    "rating = [] \n",
    "produk = []\n",
    "merk = []\n",
    "kategori = []\n",
    "price = []"
   ]
  },
  {
   "cell_type": "code",
   "execution_count": 3,
   "metadata": {},
   "outputs": [],
   "source": [
    "home = 'https://femaledaily.com/category/skincare'\n",
    "path = 'chromedriver.exe'\n",
    "\n",
    "driver = webdriver.Chrome(path)\n",
    "driver.get(home)\n",
    "sleep(5)"
   ]
  },
  {
   "cell_type": "code",
   "execution_count": 4,
   "metadata": {},
   "outputs": [],
   "source": [
    "category_column = driver.find_elements_by_class_name('jsx-3413472294.category-landing-column')\n",
    "\n",
    "list_of_category_title = []\n",
    "list_of_category_href = []\n",
    "\n",
    "for i in category_column:\n",
    "    category = i.find_elements_by_tag_name('a')\n",
    "    for cat in category:\n",
    "        list_of_category_title.append(cat.text)\n",
    "        list_of_category_href.append(cat.get_attribute('href'))\n",
    "\n",
    "for i in range(len(list_of_category_href)):\n",
    "    list_of_category_href[i] = list_of_category_href[i][:-1]\n",
    "\n",
    "category = list(zip(list_of_category_title, list_of_category_href))"
   ]
  },
  {
   "cell_type": "code",
   "execution_count": 5,
   "metadata": {},
   "outputs": [],
   "source": [
    "for cattittle, cathref in category[:]: #category\n",
    "    for page in [:]:\n",
    "        driver.get(cathref+str(page))\n",
    "        try:\n",
    "            sleep(5)\n",
    "\n",
    "            product_list_title = []\n",
    "            product_list_href = []  \n",
    "            product_column = driver.find_elements_by_class_name('jsx-2681188818.product-item')\n",
    "\n",
    "            for i in product_column:\n",
    "                product = i.find_elements_by_tag_name('a') \n",
    "                product_list_title.append(product[1].text)\n",
    "                product_list_href.append(product[1].get_attribute('href')) \n",
    "            \n",
    "            for i in range(len(product_list_href)):\n",
    "                product_list_href[i] = product_list_href[i][:-1]\n",
    "\n",
    "            product = list(zip(product_list_title, product_list_href))\n",
    "            \n",
    "            for product, prodhref in product:\n",
    "                for page2 in range(1,2): #product review page\n",
    "                    driver.get(prodhref + str(page2))\n",
    "                    try:\n",
    "                        card = driver.find_elements_by_class_name('jsx-992468192.item')\n",
    "                        sleep(5)\n",
    "                        for item in card:\n",
    "                            username.append(item.find_element_by_class_name('username').text)\n",
    "                            review.append(item.find_element_by_class_name('text-content').text)\n",
    "                            rating.append(len(item.find_element_by_class_name('cardrv-starlist').find_elements_by_class_name('icon-ic_big_star_full')))\n",
    "                            merk.append(driver.find_element_by_tag_name('h2').text)\n",
    "                            kategori.append(cattittle)\n",
    "                            produk.append(product)\n",
    "                            try:\n",
    "                                skincond.append(item.find_element_by_class_name('skin').text)\n",
    "                            except:\n",
    "                                skincond.append(np.nan)\n",
    "                            try:\n",
    "                                recommend.append(item.find_element_by_class_name('recommend').text)\n",
    "                            except:\n",
    "                                recommend.append(np.nan) \n",
    "                            try:\n",
    "                                datereview.append(item.find_element_by_class_name('date.review-date').text)\n",
    "                            except:\n",
    "                                datereview.append(np.nan)  \n",
    "                            try:\n",
    "                                price.append(driver.find_element_by_class_name('jsx-992468192.product-price').text) \n",
    "                            except:\n",
    "                                price.append(np.nan)\n",
    "                    except:\n",
    "                        pass\n",
    "        except:\n",
    "            pass"
   ]
  },
  {
   "cell_type": "code",
   "execution_count": 6,
   "metadata": {},
   "outputs": [
    {
     "output_type": "execute_result",
     "data": {
      "text/plain": "       Category            Merk                            Product      Price  \\\n0     Day Cream      Some by Mi  AHA BHA PHA 30 Days Miracle Cream      Rp. 0   \n1     Day Cream      Some by Mi  AHA BHA PHA 30 Days Miracle Cream      Rp. 0   \n2     Day Cream      Some by Mi  AHA BHA PHA 30 Days Miracle Cream      Rp. 0   \n3     Day Cream      Some by Mi  AHA BHA PHA 30 Days Miracle Cream      Rp. 0   \n4     Day Cream      Some by Mi  AHA BHA PHA 30 Days Miracle Cream      Rp. 0   \n...         ...             ...                                ...        ...   \n3750      Toner  Viva Cosmetics                         Face Tonic  Rp. 5.000   \n3751      Toner  Viva Cosmetics                         Face Tonic  Rp. 5.000   \n3752      Toner  Viva Cosmetics                         Face Tonic  Rp. 5.000   \n3753      Toner  Viva Cosmetics                         Face Tonic  Rp. 5.000   \n3754      Toner  Viva Cosmetics                         Face Tonic  Rp. 5.000   \n\n            UserName               SkinCond_Age  \\\n0     keziafebrianti                    19 - 24   \n1           melhadi_         Oily, 18 and Under   \n2       chachaganisa  Combination, 18 and Under   \n3       fidelaariqoh               18 and Under   \n4           noalin24                              \n...              ...                        ...   \n3750          nurrav       Combination, 19 - 24   \n3751  ireneflorencia            Normal, 19 - 24   \n3752  destinawahyuni       Combination, 19 - 24   \n3753       brigittac          Dry, 18 and Under   \n3754     Farahnajela               Dry, 19 - 24   \n\n                                           Recommend     PostDate  \\\n0            keziafebrianti recommends this product!  3 hours ago   \n1                  melhadi_ recommends this product!   2 days ago   \n2              chachaganisa recommends this product!   3 days ago   \n3       fidelaariqoh doesn't recommend this product!   5 days ago   \n4                  noalin24 recommends this product!   6 days ago   \n...                                              ...          ...   \n3750                 nurrav recommends this product!  24 Aug 2020   \n3751         ireneflorencia recommends this product!  20 Aug 2020   \n3752  destinawahyuni doesn't recommend this product!  18 Aug 2020   \n3753              brigittac recommends this product!  13 Aug 2020   \n3754            Farahnajela recommends this product!  09 Aug 2020   \n\n                                                 Review  Rating  \n0     Aku beli tahun lalu, waktu lagi magang di Pert...       5  \n1     PRELOVED!! Aku mau jual nih creamnya, punya te...       5  \n2     [PRELOVED] di kulit aku baguss apalagi make ba...       5  \n3     (PRELOVED) mini size nya cream, sama serum, 80...       2  \n4     Pertama kali nyobain creamnya gara-gara cocok ...       5  \n...                                                 ...     ...  \n3750  aku suka bgt sama toner ini.. aku juga selalu ...       5  \n3751  Aku sempet pake ini pas jaman sd-smp dulu kare...       4  \n3752  Honestly ini udah lama aku punya nya, tapi bar...       2  \n3753  toner ter murah dan aman pula. cocok bgt buat ...       5  \n3754  Face tonic viva ini ga ngaruh ke mukak yang an...       4  \n\n[3755 rows x 10 columns]",
      "text/html": "<div>\n<style scoped>\n    .dataframe tbody tr th:only-of-type {\n        vertical-align: middle;\n    }\n\n    .dataframe tbody tr th {\n        vertical-align: top;\n    }\n\n    .dataframe thead th {\n        text-align: right;\n    }\n</style>\n<table border=\"1\" class=\"dataframe\">\n  <thead>\n    <tr style=\"text-align: right;\">\n      <th></th>\n      <th>Category</th>\n      <th>Merk</th>\n      <th>Product</th>\n      <th>Price</th>\n      <th>UserName</th>\n      <th>SkinCond_Age</th>\n      <th>Recommend</th>\n      <th>PostDate</th>\n      <th>Review</th>\n      <th>Rating</th>\n    </tr>\n  </thead>\n  <tbody>\n    <tr>\n      <th>0</th>\n      <td>Day Cream</td>\n      <td>Some by Mi</td>\n      <td>AHA BHA PHA 30 Days Miracle Cream</td>\n      <td>Rp. 0</td>\n      <td>keziafebrianti</td>\n      <td>19 - 24</td>\n      <td>keziafebrianti recommends this product!</td>\n      <td>3 hours ago</td>\n      <td>Aku beli tahun lalu, waktu lagi magang di Pert...</td>\n      <td>5</td>\n    </tr>\n    <tr>\n      <th>1</th>\n      <td>Day Cream</td>\n      <td>Some by Mi</td>\n      <td>AHA BHA PHA 30 Days Miracle Cream</td>\n      <td>Rp. 0</td>\n      <td>melhadi_</td>\n      <td>Oily, 18 and Under</td>\n      <td>melhadi_ recommends this product!</td>\n      <td>2 days ago</td>\n      <td>PRELOVED!! Aku mau jual nih creamnya, punya te...</td>\n      <td>5</td>\n    </tr>\n    <tr>\n      <th>2</th>\n      <td>Day Cream</td>\n      <td>Some by Mi</td>\n      <td>AHA BHA PHA 30 Days Miracle Cream</td>\n      <td>Rp. 0</td>\n      <td>chachaganisa</td>\n      <td>Combination, 18 and Under</td>\n      <td>chachaganisa recommends this product!</td>\n      <td>3 days ago</td>\n      <td>[PRELOVED] di kulit aku baguss apalagi make ba...</td>\n      <td>5</td>\n    </tr>\n    <tr>\n      <th>3</th>\n      <td>Day Cream</td>\n      <td>Some by Mi</td>\n      <td>AHA BHA PHA 30 Days Miracle Cream</td>\n      <td>Rp. 0</td>\n      <td>fidelaariqoh</td>\n      <td>18 and Under</td>\n      <td>fidelaariqoh doesn't recommend this product!</td>\n      <td>5 days ago</td>\n      <td>(PRELOVED) mini size nya cream, sama serum, 80...</td>\n      <td>2</td>\n    </tr>\n    <tr>\n      <th>4</th>\n      <td>Day Cream</td>\n      <td>Some by Mi</td>\n      <td>AHA BHA PHA 30 Days Miracle Cream</td>\n      <td>Rp. 0</td>\n      <td>noalin24</td>\n      <td></td>\n      <td>noalin24 recommends this product!</td>\n      <td>6 days ago</td>\n      <td>Pertama kali nyobain creamnya gara-gara cocok ...</td>\n      <td>5</td>\n    </tr>\n    <tr>\n      <th>...</th>\n      <td>...</td>\n      <td>...</td>\n      <td>...</td>\n      <td>...</td>\n      <td>...</td>\n      <td>...</td>\n      <td>...</td>\n      <td>...</td>\n      <td>...</td>\n      <td>...</td>\n    </tr>\n    <tr>\n      <th>3750</th>\n      <td>Toner</td>\n      <td>Viva Cosmetics</td>\n      <td>Face Tonic</td>\n      <td>Rp. 5.000</td>\n      <td>nurrav</td>\n      <td>Combination, 19 - 24</td>\n      <td>nurrav recommends this product!</td>\n      <td>24 Aug 2020</td>\n      <td>aku suka bgt sama toner ini.. aku juga selalu ...</td>\n      <td>5</td>\n    </tr>\n    <tr>\n      <th>3751</th>\n      <td>Toner</td>\n      <td>Viva Cosmetics</td>\n      <td>Face Tonic</td>\n      <td>Rp. 5.000</td>\n      <td>ireneflorencia</td>\n      <td>Normal, 19 - 24</td>\n      <td>ireneflorencia recommends this product!</td>\n      <td>20 Aug 2020</td>\n      <td>Aku sempet pake ini pas jaman sd-smp dulu kare...</td>\n      <td>4</td>\n    </tr>\n    <tr>\n      <th>3752</th>\n      <td>Toner</td>\n      <td>Viva Cosmetics</td>\n      <td>Face Tonic</td>\n      <td>Rp. 5.000</td>\n      <td>destinawahyuni</td>\n      <td>Combination, 19 - 24</td>\n      <td>destinawahyuni doesn't recommend this product!</td>\n      <td>18 Aug 2020</td>\n      <td>Honestly ini udah lama aku punya nya, tapi bar...</td>\n      <td>2</td>\n    </tr>\n    <tr>\n      <th>3753</th>\n      <td>Toner</td>\n      <td>Viva Cosmetics</td>\n      <td>Face Tonic</td>\n      <td>Rp. 5.000</td>\n      <td>brigittac</td>\n      <td>Dry, 18 and Under</td>\n      <td>brigittac recommends this product!</td>\n      <td>13 Aug 2020</td>\n      <td>toner ter murah dan aman pula. cocok bgt buat ...</td>\n      <td>5</td>\n    </tr>\n    <tr>\n      <th>3754</th>\n      <td>Toner</td>\n      <td>Viva Cosmetics</td>\n      <td>Face Tonic</td>\n      <td>Rp. 5.000</td>\n      <td>Farahnajela</td>\n      <td>Dry, 19 - 24</td>\n      <td>Farahnajela recommends this product!</td>\n      <td>09 Aug 2020</td>\n      <td>Face tonic viva ini ga ngaruh ke mukak yang an...</td>\n      <td>4</td>\n    </tr>\n  </tbody>\n</table>\n<p>3755 rows × 10 columns</p>\n</div>"
     },
     "metadata": {},
     "execution_count": 6
    }
   ],
   "source": [
    "df = pd.DataFrame({'Category': kategori,\n",
    "'Merk': merk,\n",
    "'Product': produk,\n",
    "'Price': price,\n",
    "'UserName': username,\n",
    "'SkinCond_Age': skincond,\n",
    "'Recommend': recommend,\n",
    "'PostDate': datereview,\n",
    "'Review': review,\n",
    "'Rating': rating})\n",
    "\n",
    "df"
   ]
  },
  {
   "cell_type": "code",
   "execution_count": 7,
   "metadata": {},
   "outputs": [],
   "source": [
    "# df.to_csv('SkincareReview.csv', index = False)"
   ]
  },
  {
   "cell_type": "code",
   "execution_count": 8,
   "metadata": {},
   "outputs": [],
   "source": [
    "driver.close()"
   ]
  },
  {
   "cell_type": "code",
   "execution_count": null,
   "metadata": {},
   "outputs": [],
   "source": []
  }
 ]
}