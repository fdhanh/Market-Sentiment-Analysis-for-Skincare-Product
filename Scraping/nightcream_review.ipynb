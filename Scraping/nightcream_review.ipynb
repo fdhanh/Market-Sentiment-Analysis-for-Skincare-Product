{
 "metadata": {
  "language_info": {
   "codemirror_mode": {
    "name": "ipython",
    "version": 3
   },
   "file_extension": ".py",
   "mimetype": "text/x-python",
   "name": "python",
   "nbconvert_exporter": "python",
   "pygments_lexer": "ipython3",
   "version": "3.7.6-final"
  },
  "orig_nbformat": 2,
  "kernelspec": {
   "name": "Python 3.7.6 64-bit ('base': conda)",
   "display_name": "Python 3.7.6 64-bit ('base': conda)",
   "metadata": {
    "interpreter": {
     "hash": "183bbf6827d058c2a2fb0f4acdc0420849dda2b4380af0e437e38c64d798d8b7"
    }
   }
  }
 },
 "nbformat": 4,
 "nbformat_minor": 2,
 "cells": [
  {
   "cell_type": "code",
   "execution_count": 1,
   "metadata": {},
   "outputs": [],
   "source": [
    "import pandas as pd\n",
    "import numpy as np\n",
    "from selenium import webdriver\n",
    "from selenium.webdriver.common.keys import Keys\n",
    "from time import sleep"
   ]
  },
  {
   "cell_type": "code",
   "execution_count": 2,
   "metadata": {},
   "outputs": [],
   "source": [
    "link = 'https://www.sociolla.com/face-cream-lotion/10074-brightening-night-cream'\n",
    "path = 'chromedriver.exe'\n",
    "\n",
    "driver = webdriver.Chrome(path)\n",
    "driver.get(link) "
   ]
  },
  {
   "cell_type": "code",
   "execution_count": 3,
   "metadata": {
    "tags": [
     "outputPrepend"
    ]
   },
   "outputs": [
    {
     "output_type": "stream",
     "name": "stdout",
     "text": "encerah kan tp memang waktu pake paginya agak glowing gitu sih Mungkin hrus dg pemakaian teratur dan bisa tau hasil nya ..\nBaru beberapa hari pakai ini night cream, jadi belum kelihatan hasilnya terlalu banyak. hanya aja ketika pakai ini cream , muka ga makin beminyak d pagi hari dan cepet bangeeeet nyerap nyaaa.. ga perlu nunggu lama .\nworth bangettt!! dengan harga murahh tapi hasilnya cukup terlihatt. di kulit kombinasi cenderung oily ini hasilnya ga bikin berminyak di pagi hari. terus emang hasilnya lebih cerah di wajah kalo di pake rutin yawww\nNight cream pertama aku yg dipake sampe hampir habis saking kerasa perbedaannya. Mukaku jadi lebih cerah setelah pake produk ini. Menurutku, secara tekstur ga jauh beda sama yg morning cream\nSelain pakai yang morning, aku juga pakai yg night cream nya raiku, menurut aku night creamnya lebih efektif mencerahkan, cepat menyerap dan bisa bikin kulit menjadi kenyal, produk yang lumayan wajib untuk dicoba\nAku beli karena iseng mau cobain produk lokal katanya. Teksturnya creamy, dia kayak gaada baunya gitu, waktu awal pake ada muncul jerawat dimukaku, jadi aku belum coba buat pake lagi. Tapi selama pake kemarin tuh juga gaada perubahan yang signifikan dimuka aku.\nWanginya hampir gak kecium, terus teksturnya agak terlalu thick dan lama nyerapnya dibanding night cream lain, tapi karna dipakenya malam its okay lah ya, terus ini bikin wajah jadi kenyal banget dan keliatan mulus paginya, tapi kalo efek brighteningnya kurang kerasa\nteksturnya lebih ringan dari yg morning creamnya, cepet menyerap juga ga bikin mukaku break out atau aneh2, suka banget si sama teksturnya yg ringan banget bangun tidur bikin muka jadi kenyal.\nNight cream yg aku pakai setelah sekian lama tak pernah pakai night cream. Texture nya lebih sedikit encer g kentel bgt dan gampang bgt ngeresepnya dikulit. Paginya pun wajah jadi lembab bgt. Enakk bgt. Tapi kalo untuk efek brighteningnya belum berasa di aku. But woth to try\naku suka bgt sama skin care ini lembab pin bgt, terus juga di muka aku lebih se halus itu, sukak bgt sama ini semoga bener bener emang bikin glowing hehe\nHuaa pertama kali beli night cream yang agak mahal. Udah kucoba selama lebih kurang 1 minggu di sebelah wajah aku, keliatan banget bedanya, padahal bagian kanan lebih gelap dari kiri dan teksturnya jadi lebih halus. Aku coba kanan pakai ini terus kiri pakai produk lain, beda banget. Jauh lebih cerah. Tapi sekarang bingung karena cerah sebelah. Ill continue it to other side :)\nKatanya brigtening?emang iya ngaruh! Bikin lembab, teksturnya lembut gampang menyerapnya, kandungan niacinamide mencerahkan kulit. Kemasannya higenis, harganya 100 ribuan untuk 40g munyil pisan sukak produk halal bikin glowing❤\nBaru pertama kali nyobain produk dari raiku. Enak sih enteng banget ga berat, ga bikin minyakan dan cepet ngeresap. Tapi untuk efek mencerahkan belom kerasa mungkin baru habis satu dan gak dibarengi sama produk2 lainya dari raiku.\nSusah ngeluarin produknya. Kadang harus dikocok dlu supaya produknya tidak terlalu cair. Tidak terlalu melembabkan, cepat meresap. Untuk efek brighteningnya juga tidak begitu terasa.\nIni pembelianku yg kedua.. Suka ama texture nya mirip ama sleep mask merek sebelah.. Basah gituuhh...Dan ini botol pertama beli ampe 3 bulan blm habis2.. Pdhl udh beli lagi..msh ada awet bgt😅😅 Dimukaku bikin ceraaaaaaahh bgtttt😍😍😍 Kulit wajah jd bersinarrrr glowiing donk..dan jerawat gak nongol lagi..🤣🤣 secocok ituuuhh👍👍👍\nbeli ini karena lagi diskon di sociolla dan kebetulan night cream lagi abis. tekstur agak kental tapi mudah menyerap. karena aku pakai produk brightening skincare juga yg lain, jadi gatau produk brightening mana yg lebih bekerja.\nga merasakan perubahan setelah habis sebotol, mungkin emang muka aku aja yang tebel. teksturnya enak sih, cepet nyerep juga. cuma efeknya belum dapet di aku\nini tuh moisturizer yang bener ngelembab-in, ringan banget, pagi2nya tuh muka aku berasa halus banget, efek mencerahkannya juga ada banget // pokonya aku bakal repurchase deh :*\ndidnt do my skin any differrent but luckily ga rugi2 bgt soalnya beli ini pas lg promo jd cm 50k. one of the ingredients that caught my eye for the first time is thw niacinamide that written in front of the packaging, tp sayangnya didnt do my skin any justice :((( mungkin ingredients nya ini terlalu ringan utk kulit ku :\"\npertama beli raiku karna penasaran dengan claimnya. Namun, udah hampir seminggu aku pakai belum menunjukkan tanda-tanda yang sesuai claim product ini . teksturnya gampang nyerap di kulit dan ga bikin lengket .\nsebelumnya aku pakai night cream produk lain dan ternyata bikin wajahku kusam banget. pas nemu produk ini aku langsung pakai dan gaada reaksi breakout. dalam hitungan minggu wajah juga langsung cerah. dibandingkan pas sekarang (sekarang pakai raiku nc anti aging), wajahku lebih cerah dan glowing pas pakai varian ini.\nsemoga cocok terus pakai produk ini, dia punya tekstur krimnya hampir kayak gel, baunya sedikit wangi gak menyengat. cepet meresap juga pas dipakai dan ternyata agak mahal buat aku 😂 soalnya produk lokal\n\n\n\n\n\nNight creamnya bagus, cepat menyerap dengan baik, wangi juga. Khas produk Raiku. Pakai produk ini nggak setiap hari, karena kadang suka selang-seling dengan sleeping masknya. Tapi efeknya cukup kelihatan, kulit jadi terlihat lebih bersih dan cerah, bekas jerawat mulai pudar.\nPunya tipe kulit berminyak agak picky nyari pelembab apalagi buat malem, selama ini pake yang cairan gitu. Tapi karna kebetulan abis, aku nyari2 produk lokal sekalian beli toner sma cream malem ini, pakai dikit aja udah bisa semuka. Agak cerah tapi butuh waktu agak lama dikit. I liked it.\nNight cream drug store pertamaku, bener-bener enak banget dipakenya, ringan teksturnya agak cair, untuk produk ini emang butuh waktu buat ngeresapnya di kulitku, wanginya soft banget, bikin kulit jd lembab besok paginya. Di aku yg acne prone produk ini ga bikin beruntusan maupun jerawatan, recomended buat yg cari night cream low budget tp kualitas oke\nRaiku Brightening Night Cream ini kupakai setiap malam sebelum tidur dan besok paginya ketika bangun tidur, wajahku terlihat lebih cerah. Creamnya juga enak karena cepat meresap ke kulit wajah. Packagingnya juga lucu 👌\nKrim malam yang dikemas dalam tube warna pink dan putih, so cute. Krim nya bertekstur seperti gel berwarna putih susu dan thick, tapi cepat menyerap setelah diaplikasikan di wajah. Setelah pemakaian selama hampir 2 minggu, hasilnya wajah jadi lebih cerah dan lembab. Ambil krim sedikit saja sudah bisa untuk seluruh wajah. Harga juga standart, tidak terlalu mahal. Kulit aku berminyak dan baik2 aja pakai krim ini, gak ada efek yang negatif. So worthed to try.....\nI really love this night cream. Texturenya beneran enak banget, cepet nyerep, engga bikin minyakan gak jelas gitu, bahkan bikin cerah dipemakaian pertama. Cuma sayang banget, emang muka aku ngga bisa pake tekstur krim (padahal pengen banget punya produk yang teksturnya krim) pasti akan berakhir dengan merah-merah :\") I would highly really recommend this product to you yang gak punya masalah sama produk yang teksturnya krim karena seenak itu!\nAku pake produk ini ga ada efek nya di wajah aku, sama aja apa karna aku cuma pake night cream nya doang kali yaa, tapi sejauh ini wajah aku ga ada perubahan, tapi ga nimbulin jerawat/ bruntusan.\nPas pakai produk ini ajaibnya jerawat yang mau tumbuh tuh gak jadi muncul. Teksturnya bukan yang cepat meresap walau cukup watery, butuh hampir semenit untuk benar-benar meresap. Untuk efek mencerahkannya tidak begitu terlihat.\nAku pakai sepaket yg seri brighening. Enak banget ringan, dan night cream ini menenangkan saat tidur. Tambah serumnya lagi jd maksimal hasilnya. Kulitku sensitivenya superrrrr tp cucok pakai ini. Semoga pas repurchase dpt diskon lg ya ?\nSetelah pke ini wajah aku jarang jerawatan. Untuk textur lembut tidak berbau. Harganya terjangkau. Sukaaa banget, penasaran juga pke pruduk ini. Tpi yah kadang gak rutin aku pake y.. packaging bagus banged\n\n\nTeksture cukup thick. Menyerap ke kulit lumayan lama. Isinya mayan la, g terlalu banyak ato sedikit. Jd harganya jg so so aj. Habis pake ini langsung breakout di dagu buanyak. Alamat dah pake d tangan dan kaki. Tp juga ngga ad efek mencerahkan tu d tgn kaki.\nUntuk yg punya kulit kusam, produk ini bisa menjadi salah satu pilihan kalian, aku pilih produk ini krn mengandung niacinamide yg bisa membantu untuk mencerahkan kulit, setelah pemakaian kurang lebih seminggu, hasilnya lumayan terlihat mungkin krn produk ini juga mengandung rice extrak jadi hasilnya cepet terlihat, kulitq juga jadi lumayan lembab\nini cream night petama aku, krn baru pertama kali pake cream2an jadi pake yang buat night skincare dulu, blm berani make yang day cream soalnya takut muka jd kilang minyak wkwk krn wajahku cepet oily. aku udah pake tonernya dan cocok diaku jd penasaran jg sm creamnya, liat reviewnya random ada yg cocok ada jg yg engga. tapi setelah akai seminggu rutin hasilnya lumayann bgtt wajah lebih fresh krn efek brighteningnya sih menurut aku. ga bikin breakout ihh luvv. aku jg pke tonernya kan, jd lebih ngefek deh di aku. soon beli yg daycream sm serumnya deh. minusnya menuru aku aplikatornya kurang pas sih, krn aku pencet bagian botolnya dikit aja, creamnya luber keluarnya. i wish ada upgrade segi packaging krn produkny sebagus itu.\nUdah pake ini sekitar 2 mingguan. Awal pake di mukaku agak cekat cekit. Akhirnya aku pakenya selang seling 2 hari sekali karna kulit agak sensitif soalnya nerima produk baru ? . Dan so far produk ini masih aman aman aja aku pake sampe skrg, gak nimbulin breakout. Aku juga suka sama teksturnya yang gampang nyerap di kulit, dan lumayan bikin kulit kenyal.\nTeksturx kental dan saat diaplikasikan ke wajah Benar\" cpt mresap lembab kenyal dan kulit jadi kerasa sehat sketika . Pkoknya the best bnget cream ini\nAku suka banget sama produk ini soalnya pas pagi ngerasa muka lebih glowing dan kenyal, texturenya hampir mirip sama yang day cream, aku pakai serangkaian brightening dan lumayan terlihat perubahannya\nBreakout di wajahku. Gak cocok pakai ini. Sayang banget padahal teksturnya aku suka karena cepat meresap. Tapi kurang melembabkan di kulit aku. Kayaknya sih karena kurang hydrating agentnya ya (soalnya kulit aku dehidrasi). Terus muncul jerawat habis pakai ini jadi cuma pakai 2x habis itu stop.\nKemarin sempet ragu nyobain ini karna kulit wajah lagi kering banget sampai mengelupas dan menganggu banget saat makeup an. Takut gak cocok atau malah kulit jadi lebih kering. Tapi ternyata malah kulit jadi membaik alias gak kering lagi sampai mengelupas karna dia membantu melembabkan dan kulit jadi super kenyal lol Super suka banget. Skincare lokal yang worth to try\nBeli ini karena baca reviewnya cukup bagus dan karena night cream sebelumnya udah abis. Teksturnya krim tapi banyak airnya juga, pas dituang yang keluar duluan air baru krimnya. Wanginya ok, karena ga menyengat. Dan untuk packaging aku cukup suka karena ga berat. Di awal-awal pemakaian, masih ok tapi setelah 3 hari ada muncul bruntusan di beberapa bagian. Aku stop dan bruntusan itu ilang. Sayang banget padahal ngarepin produk ini cocok dan bisa kasih efek bagus buat kulit.\nKrimnya mudah menyerap, ringan dan memberikan efek brightening. Klo pakai tiap hari agak kluar bruntusan di dahi tapi klo dipakai 2hari sekali hasilnya bagus. So, sesuaikan dengan kondisi kulit kalian aja..\nUdah coba pake ini sekitar 2 mingguan, so far so good sih ga bikin break out. Kurangya produk ini adalah kadang suka kluar cair gitu, jadi aku selalu kocok dulu sblm pake supaya yg keluar krim rata gitu, bukan cair. Utk efek brighteningnya sendiri aku blm perhatiin, tp kayany ada bikin cerah sedikit.\nraiku juga salah satu skincare yang pernah aku coba.. produknya bagus, teksturnya juga gak lengket sama sekali.. kemasannya pun lucu karena ada aksen warna pink berbeda dari brand lainnya\nBikin bruntusan ilang, lebih cerah, skin tone naik. gokil. Nyesel napa baru make skrg knp ga drdulu aja krn sebagus itu? hrs repurchase hahahaha!!!\nSuka sama produk ini karena packagingnya tube jadi lebih steril dan praktis buat dibawa2, teksturnya yang cepat meresap jadi ga bikin lengket. Melembabkan banget dan cocok buat kulit sensitif.\nAku baru coba ini pertama kali sih, awalnya aku cari moisturizer yang aman gitu kan, karna kebanyakan moisturizer pas aku cek di cosdna tuh banyak kandungan yang bikin aku khawatir kalau raiku ini tuh engga, bahannya aman tapi agak pricey sih menurut aku pribadi hehe memang bagus sih texture nya aku suka so far dan cepet meresap di kulit, adem baunya sedikit aneh ya tapi ga terlalu mengganggu yang penting kandungannya aman minusnya sih ini isinya dikit bangett jadi mikir dua kali kalau mau repurchase tapi kali ga liat harga sih ini produk keren banget gaada bahan berbahayanya\nUntuk night creamnya sendiri, sama seperti day creamnya. Aku suka texturenya yang creamy lembut. Nggak lengket sama sekali diwajah dan cepat banget meresap. Besok paginya nggak terlalu bikin wajahku makin berminyak yaa. Walaupun ada sedikit berminyak, tapi karena aku pakai banyak skin care, aku nggak bisa bilang kalau sumber minyaknya dari night cream ini . Hasilnya tuh pagi-pagi, wajahku terasa makin cerah dan glowing serta kenyal banget. Menuruku sih yang paling berefek diwajahku tuh toner dan night cream nya ini aja . Kalau day cream dan apalagi serumnya aku nggak bisa bilang ada progress. Aku bisa bilang kayak gini karena pas beli produknya tuh nggak sepaket langsung, nyicil dulu dari serum, lalu beli day cream. Pas itu nggak ada perubahan, setelah beli night creamnya baru deh kelihatan. Karena aku pikit bagus, sekalian beli tonernya.\nSuka dengan night cream nya❤️ tekstur cream nya tidak lengket. Setelah pakai ini kulit jadi lebih lembut dan kenyal gitu. Dan pas pagi hari nya kulit beneran jadi lembut dan lumayan mencerahkan di wajah aku. Alhamdulillah nya ternyata cocok di aku :)\nTeksturnya lebih ringan dr pd day cream nya...pas dipakenya wajah jadi cerah...bangun pagi pas bangun juga keliatan cerah n sedikit oily di wajah aku...yg penting gak bikin bruntusan atau jerawat aku sih oke2 aja\nbentuk produk ini lotion yang pekat berwarna putih pucat. langsung meresap pada kulit. tidak lengket, kulit makin kenyal dan cerah. lebih efektif jika menggunakan Hydrating mask Raiku dua kali seminggu setelah pemakaian night cream ini.\ndapat mengunci serum agar dapat bekerja maksimal. Dan memberi kelembaban extra di malam hari. Teksturnya pun tidak lengket, dan cepat meresap. biasanya setelah aku pakai ini, aku lanjut menggunkan hydrating mask, dan dibawa tidur.\nsetelah seminggu pake, di series brightening ini aku paling suka sama night cream nya karna tekstur nya suka banget gampang nyerap, bikin tenang ke kulit trus kulit jd glowing gt pas paginya, trus emg bener2 mencerahkan! bukan memutihkan, jd kulit keliatan seger bgt meskipun gak makeup♥️\nsetelah pemakaian lebih dari 7 hari aku ngerasa pas bangun tidur muka aku ga se kusam sebelum ku pake ini..night cream ini fine juga di muka aku sama kaya product brightening series raiku lainnya dan ngasih effect bightening walaupun baru sedikit, ga bikin muka terlalu glowing tapi okee lah, ada sedikit wanginya tapi aku gatau itu wangi apa kayanya dari safflower yang terkandung dalam productnya, tapi wanginya ga ganggu sama sekali, dan karena night cream yang akan di pake sebelum tidur jadi product ini ga secepet itu nyerepnya.. but i luvvv it\nSetelah aku coba produk ini selama 2 minggu menurut aku so far sudah ada hasilnyaaa dan aku suka bgt temsturnya lagi lagi setelah facial washnya... setelah pemakaian cream ini kulit aku jadi berasa lembab tapi tetep enak teksturnya ga lengket hi\nKenapa aku baru tau ini sekarang sekarang sih? Sebagus itu masaaa, beneran bikin cerah gitu ke muka. Teksturnya aku sukaaaa, cepet meresap dan wanginya juga suka bangt huhu\nAkhirnya memilih Raiku sebagai night cream yang aku coba buat ngilangin kusam di wajah aku. Awalnya agak ragu sih, tapi ngeliat kandungan dan fungsi yang lagi aku butuhin banget, aku coba deh. So far, selama 2 minggu ini wajah aku lebih cerah dan lembab! Bekas jerawat aku juga sedikit memudar. So happy!\nteksturnya suka, cepet nyerep gitu dan bikin lembab. ga ada wanginya which is aku suka. dipake malem sebelum tidur besok paginya cerah gitu mukanya, suka pokoknya\nOmg.. Why I didn't find you sooner? Seriously, dgn harga segini dan isinya yg lumayan bnyk klo dibanding brand lokal terkenal, ini worth to buy bgt. Belum lg ngomongin teksur yg ringan, ga greasy dan cpt menyerap. Dan satu lg, beneran bikin cerah sjk pertama kali pake (inget ya bukan putih, tapi CERAH).\nTeksturnya enteng banget sama seperti clensing cream gak berbeda, gak ada wanginya sama sekali, gak terlalu bikin berminyak besok harinya dan bikin lembab serta cerah\nIni adalah night cream andalan gueeee ? Tapiii baru mau repurchase lagi kali produk ini diskon di sociolla, soalnyaa kalo beli harga normal hmm sayang ajaa pas liat di sociolla udah di diskon tp eike belinya harga normal ? Ini tuh efektif bgt mencerahkannya, bikin wajah glowing dan kenyeel, cepat merasap, teksturnya ga creamy2 amat, malah kesannya kandungan airnya lebih banyak gituu. Jadi cepat meresap. Pakai ini seperti ada sensasi2 hangat di wajah, but its okay :)\nteksture dari raiku brightening night cream ini sama kaya raiku brightening morning cream. teksture nya creamy gitu. dia ngelembab in banget dan setelah meresap, di kulit terasa halus terus kenyel kenyel gitu. setelah bangun tidur kulit berasa seger, glowing, kenyal, dan halus banget.\nHii ... Everyone and everybody .. yuhuuuuuuuu Mau curhat sedikit nih ya .. Pada suatu hariii..... #oneyearagoo Jadi gini ... Udah pada taukan produk lokal yang halal nya setara dengan wardah .. #yang halal buat kita ... Kita? Lo aja kali ? .. yaps .. its \" RAIKU \" disini awal nya gua coba coba .. meski gua tau dicoba itu ga enak apa lagi pas udah sayang ditinggal :') #apaansi .. Oke lanjut .. karena gua terlalu semangat untuk mencoba .. gua langsung dah coba seperangkat alat skincare dari RAIKU dibayar tunaiii ... SAAAAH #NGACO Disitu gua coba ... Ternyata eh ternyata .. baru dua hari muka gua udah aga lebih cerah .. secara gua coba yang \" RAIKU BRIGHTENING SERIES \" jadi pasti nya bikin wajah jadi berbinar binar seperti bintang dilangt .. begitu cinta kita .. #yhaaaaaa Lanjut .. tapi Ada tapi nya ... MUKA GUA BRUNTUSAN OMG GALAU .. Tapi gua ga patah semangat .. Tapi si beruntusan juga ga ilang ilang .. Setelah diteliti .. Ternyata ...... Kumenyadari bahwa ada satu produk yang ga cocok di wajah ku tercinta ini .. YAITU KANDUNGAN VIT.E pada cleansing cream nya .. Udah si itu aja keluhan nya hahah selebih nya produk nya aku cinta .. Apalagi cream malem nya .. mengandung ... Melahirkan menyusui.. #apaansi Night cream , morning cream, toner nya dan serum dari raiku ini mengandung .. NIACINAMIDE yang berfungsi untuk mencerahkan dan mengangkat sel kulit mati yang ada pada kulit wajah kita .. Niacinamide inipun ada pada sah satu produk yang sering banget kita dengar its .. the ordinary .. Wah ga kalah bagus dah pokok nya .. Udah dua minggu ini .. muka ogud jadi bersinar sinar gitu dan diakui juga loh ama best friend sekitar hahahaha Udah ya segitu aja .. sekian .. dan i love you sooo much\nsama seperti yang morning cream, yang ini juga aromanya enak, ringan di kulit, gak bikin lengket. produk ini juga cepat meresap di kulit, setelah pakai 1 rangkaian bisa terasa lebih cerah kulit kita\nRaiku Night Cream very tidak boleh di skip sama sekali... karena pada malam hari saat kita tidur wajah kita bekerja lebih baik karena tidak melakukan apa\"\ndia cepet meresap kedalam kulit dan berasa dingin pas diaplikasikan, dia bikin kulit lebih lembut, dan aromanya bikin relax banget, paginya kulit berasa lebih lembab dan gak kusam.\nAku sukaa banget, pastinya dari packaging nya yang warna pink2 gitu, terus tekstur nya yang mudah menyerap ke kulit. Setelah aku pakai ini, wajah aku besok paginya cerah dan sehat banget.\n"
    }
   ],
   "source": [
    "review_list = []\n",
    "for page in range(2, 29):\n",
    "    try:\n",
    "        review = driver.find_elements_by_class_name('desc-detail')\n",
    "        for rev in review:\n",
    "            review_list.append(rev.find_element_by_class_name('desc').text)\n",
    "            print(rev.find_element_by_class_name('desc').text)\n",
    "        sleep(10)\n",
    "        driver.find_element_by_class_name('next').click()\n",
    "    except:\n",
    "        pass"
   ]
  },
  {
   "cell_type": "code",
   "execution_count": 4,
   "metadata": {},
   "outputs": [
    {
     "output_type": "execute_result",
     "data": {
      "text/plain": "                                                Review\n0    Aku pakai ini sama day creamnya. Teksturnya se...\n1    raiku brightening Night Cream ini ngebantubang...\n2    Produknya bener\" pas banget dikulitku, melemba...\n3    Aku suka banget sama raiku brightening night c...\n4    Brightening mask kecintaan aku, bisa jadi Slee...\n..                                                 ...\n113  Hii ... Everyone and everybody .. yuhuuuuuuuu ...\n114  sama seperti yang morning cream, yang ini juga...\n115  Raiku Night Cream very tidak boleh di skip sam...\n116  dia cepet meresap kedalam kulit dan berasa din...\n117  Aku sukaa banget, pastinya dari packaging nya ...\n\n[118 rows x 1 columns]",
      "text/html": "<div>\n<style scoped>\n    .dataframe tbody tr th:only-of-type {\n        vertical-align: middle;\n    }\n\n    .dataframe tbody tr th {\n        vertical-align: top;\n    }\n\n    .dataframe thead th {\n        text-align: right;\n    }\n</style>\n<table border=\"1\" class=\"dataframe\">\n  <thead>\n    <tr style=\"text-align: right;\">\n      <th></th>\n      <th>Review</th>\n    </tr>\n  </thead>\n  <tbody>\n    <tr>\n      <th>0</th>\n      <td>Aku pakai ini sama day creamnya. Teksturnya se...</td>\n    </tr>\n    <tr>\n      <th>1</th>\n      <td>raiku brightening Night Cream ini ngebantubang...</td>\n    </tr>\n    <tr>\n      <th>2</th>\n      <td>Produknya bener\" pas banget dikulitku, melemba...</td>\n    </tr>\n    <tr>\n      <th>3</th>\n      <td>Aku suka banget sama raiku brightening night c...</td>\n    </tr>\n    <tr>\n      <th>4</th>\n      <td>Brightening mask kecintaan aku, bisa jadi Slee...</td>\n    </tr>\n    <tr>\n      <th>...</th>\n      <td>...</td>\n    </tr>\n    <tr>\n      <th>113</th>\n      <td>Hii ... Everyone and everybody .. yuhuuuuuuuu ...</td>\n    </tr>\n    <tr>\n      <th>114</th>\n      <td>sama seperti yang morning cream, yang ini juga...</td>\n    </tr>\n    <tr>\n      <th>115</th>\n      <td>Raiku Night Cream very tidak boleh di skip sam...</td>\n    </tr>\n    <tr>\n      <th>116</th>\n      <td>dia cepet meresap kedalam kulit dan berasa din...</td>\n    </tr>\n    <tr>\n      <th>117</th>\n      <td>Aku sukaa banget, pastinya dari packaging nya ...</td>\n    </tr>\n  </tbody>\n</table>\n<p>118 rows × 1 columns</p>\n</div>"
     },
     "metadata": {},
     "execution_count": 4
    }
   ],
   "source": [
    "out = pd.DataFrame({'Review':review_list})\n",
    "out"
   ]
  },
  {
   "cell_type": "code",
   "execution_count": 5,
   "metadata": {},
   "outputs": [],
   "source": [
    "out.to_csv('RAIKU_Brightening Night Cream_Review.csv', index = False)"
   ]
  },
  {
   "cell_type": "code",
   "execution_count": 6,
   "metadata": {},
   "outputs": [],
   "source": [
    "driver.close()"
   ]
  },
  {
   "cell_type": "code",
   "execution_count": null,
   "metadata": {},
   "outputs": [],
   "source": []
  }
 ]
}