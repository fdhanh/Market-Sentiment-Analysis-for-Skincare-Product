{
 "metadata": {
  "language_info": {
   "codemirror_mode": {
    "name": "ipython",
    "version": 3
   },
   "file_extension": ".py",
   "mimetype": "text/x-python",
   "name": "python",
   "nbconvert_exporter": "python",
   "pygments_lexer": "ipython3",
   "version": "3.7.6-final"
  },
  "orig_nbformat": 2,
  "kernelspec": {
   "name": "Python 3.7.6 64-bit ('base': conda)",
   "display_name": "Python 3.7.6 64-bit ('base': conda)",
   "metadata": {
    "interpreter": {
     "hash": "183bbf6827d058c2a2fb0f4acdc0420849dda2b4380af0e437e38c64d798d8b7"
    }
   }
  }
 },
 "nbformat": 4,
 "nbformat_minor": 2,
 "cells": [
  {
   "cell_type": "code",
   "execution_count": 1,
   "metadata": {},
   "outputs": [],
   "source": [
    "import pandas as pd\n",
    "import numpy as np"
   ]
  },
  {
   "cell_type": "code",
   "execution_count": 2,
   "metadata": {},
   "outputs": [
    {
     "output_type": "execute_result",
     "data": {
      "text/plain": "          Brand                            Product        UserName  \\\n0     Hada Labo                     Perfect 3D Gel     saffanazian   \n1     Hada Labo                     Perfect 3D Gel           nadh_   \n2     Hada Labo                     Perfect 3D Gel          Ismawf   \n3     Hada Labo                     Perfect 3D Gel       denishaap   \n4     Hada Labo                     Perfect 3D Gel            kifa   \n...         ...                                ...             ...   \n7631   Clinelle  Whiten Up Brightening Night Cream         janejen   \n7632   Clinelle  Whiten Up Brightening Night Cream   septianalaras   \n7633   Clinelle  Whiten Up Brightening Night Cream        Finatulh   \n7634   Clinelle  Whiten Up Brightening Night Cream      indahsario   \n7635   Clinelle  Whiten Up Brightening Night Cream  luisca_anugrah   \n\n              SkinCond_Age                               Recommend  \\\n0            Oily, 19 - 24    saffanazian recommends this product!   \n1          Normal, 19 - 24          nadh_ recommends this product!   \n2             18 and Under  Ismawf doesn't recommend this product!   \n3          Normal, 19 - 24      denishaap recommends this product!   \n4     Combination, 30 - 34           kifa recommends this product!   \n...                    ...                                     ...   \n7631    Oily, 18 and Under        janejen recommends this product!   \n7632  Combination, 19 - 24  septianalaras recommends this product!   \n7633       Normal, 19 - 24       Finatulh recommends this product!   \n7634          Dry, 19 - 24                                     NaN   \n7635       Normal, 25 - 29                                     NaN   \n\n          PostDate                                             Review  Rating  \n0     15 hours ago  udah pake 6 botol , teksturnya unik lebih kaya...       5  \n1        a day ago  Aku pake ini buat night creamku. Ini bener2 bi...       5  \n2       2 days ago  Sya cocok sama semua produk hadalabo tapi kecu...       3  \n3       3 days ago  alhamdulillah cocok xx dikulitku yang suka rew...       5  \n4      10 Sep 2020  iseng beli nyobain ini dan wowww bekas jerawat...       4  \n...            ...                                                ...     ...  \n7631   15 Oct 2019  Beli ini gara gara di rekomendadi mba mba guar...       4  \n7632   12 Oct 2019  awalnya ragu coba karena harganya di atas budg...       4  \n7633   08 Oct 2019  pake ini barengan sama day creamnya, pake male...       5  \n7634   24 Sep 2019  Aku nyoba ini dari sample size tapi langsung j...       4  \n7635   16 Sep 2019  Klaim Brightening nya sama sekali nggak ngefek...       4  \n\n[7636 rows x 8 columns]",
      "text/html": "<div>\n<style scoped>\n    .dataframe tbody tr th:only-of-type {\n        vertical-align: middle;\n    }\n\n    .dataframe tbody tr th {\n        vertical-align: top;\n    }\n\n    .dataframe thead th {\n        text-align: right;\n    }\n</style>\n<table border=\"1\" class=\"dataframe\">\n  <thead>\n    <tr style=\"text-align: right;\">\n      <th></th>\n      <th>Brand</th>\n      <th>Product</th>\n      <th>UserName</th>\n      <th>SkinCond_Age</th>\n      <th>Recommend</th>\n      <th>PostDate</th>\n      <th>Review</th>\n      <th>Rating</th>\n    </tr>\n  </thead>\n  <tbody>\n    <tr>\n      <th>0</th>\n      <td>Hada Labo</td>\n      <td>Perfect 3D Gel</td>\n      <td>saffanazian</td>\n      <td>Oily, 19 - 24</td>\n      <td>saffanazian recommends this product!</td>\n      <td>15 hours ago</td>\n      <td>udah pake 6 botol , teksturnya unik lebih kaya...</td>\n      <td>5</td>\n    </tr>\n    <tr>\n      <th>1</th>\n      <td>Hada Labo</td>\n      <td>Perfect 3D Gel</td>\n      <td>nadh_</td>\n      <td>Normal, 19 - 24</td>\n      <td>nadh_ recommends this product!</td>\n      <td>a day ago</td>\n      <td>Aku pake ini buat night creamku. Ini bener2 bi...</td>\n      <td>5</td>\n    </tr>\n    <tr>\n      <th>2</th>\n      <td>Hada Labo</td>\n      <td>Perfect 3D Gel</td>\n      <td>Ismawf</td>\n      <td>18 and Under</td>\n      <td>Ismawf doesn't recommend this product!</td>\n      <td>2 days ago</td>\n      <td>Sya cocok sama semua produk hadalabo tapi kecu...</td>\n      <td>3</td>\n    </tr>\n    <tr>\n      <th>3</th>\n      <td>Hada Labo</td>\n      <td>Perfect 3D Gel</td>\n      <td>denishaap</td>\n      <td>Normal, 19 - 24</td>\n      <td>denishaap recommends this product!</td>\n      <td>3 days ago</td>\n      <td>alhamdulillah cocok xx dikulitku yang suka rew...</td>\n      <td>5</td>\n    </tr>\n    <tr>\n      <th>4</th>\n      <td>Hada Labo</td>\n      <td>Perfect 3D Gel</td>\n      <td>kifa</td>\n      <td>Combination, 30 - 34</td>\n      <td>kifa recommends this product!</td>\n      <td>10 Sep 2020</td>\n      <td>iseng beli nyobain ini dan wowww bekas jerawat...</td>\n      <td>4</td>\n    </tr>\n    <tr>\n      <th>...</th>\n      <td>...</td>\n      <td>...</td>\n      <td>...</td>\n      <td>...</td>\n      <td>...</td>\n      <td>...</td>\n      <td>...</td>\n      <td>...</td>\n    </tr>\n    <tr>\n      <th>7631</th>\n      <td>Clinelle</td>\n      <td>Whiten Up Brightening Night Cream</td>\n      <td>janejen</td>\n      <td>Oily, 18 and Under</td>\n      <td>janejen recommends this product!</td>\n      <td>15 Oct 2019</td>\n      <td>Beli ini gara gara di rekomendadi mba mba guar...</td>\n      <td>4</td>\n    </tr>\n    <tr>\n      <th>7632</th>\n      <td>Clinelle</td>\n      <td>Whiten Up Brightening Night Cream</td>\n      <td>septianalaras</td>\n      <td>Combination, 19 - 24</td>\n      <td>septianalaras recommends this product!</td>\n      <td>12 Oct 2019</td>\n      <td>awalnya ragu coba karena harganya di atas budg...</td>\n      <td>4</td>\n    </tr>\n    <tr>\n      <th>7633</th>\n      <td>Clinelle</td>\n      <td>Whiten Up Brightening Night Cream</td>\n      <td>Finatulh</td>\n      <td>Normal, 19 - 24</td>\n      <td>Finatulh recommends this product!</td>\n      <td>08 Oct 2019</td>\n      <td>pake ini barengan sama day creamnya, pake male...</td>\n      <td>5</td>\n    </tr>\n    <tr>\n      <th>7634</th>\n      <td>Clinelle</td>\n      <td>Whiten Up Brightening Night Cream</td>\n      <td>indahsario</td>\n      <td>Dry, 19 - 24</td>\n      <td>NaN</td>\n      <td>24 Sep 2019</td>\n      <td>Aku nyoba ini dari sample size tapi langsung j...</td>\n      <td>4</td>\n    </tr>\n    <tr>\n      <th>7635</th>\n      <td>Clinelle</td>\n      <td>Whiten Up Brightening Night Cream</td>\n      <td>luisca_anugrah</td>\n      <td>Normal, 25 - 29</td>\n      <td>NaN</td>\n      <td>16 Sep 2019</td>\n      <td>Klaim Brightening nya sama sekali nggak ngefek...</td>\n      <td>4</td>\n    </tr>\n  </tbody>\n</table>\n<p>7636 rows × 8 columns</p>\n</div>"
     },
     "metadata": {},
     "execution_count": 2
    }
   ],
   "source": [
    "review = pd.read_csv(r'D:\\final project\\DataBase\\Input\\01. SkincareReview.csv')\n",
    "review"
   ]
  },
  {
   "cell_type": "code",
   "execution_count": 3,
   "metadata": {
    "tags": []
   },
   "outputs": [
    {
     "output_type": "stream",
     "name": "stdout",
     "text": "Requirement already satisfied: sastrawi in c:\\users\\admin\\anaconda3\\lib\\site-packages (1.0.1)\nNote: you may need to restart the kernel to use updated packages.\n"
    }
   ],
   "source": [
    "pip install sastrawi"
   ]
  },
  {
   "cell_type": "code",
   "execution_count": 4,
   "metadata": {
    "tags": []
   },
   "outputs": [
    {
     "output_type": "stream",
     "name": "stderr",
     "text": "[nltk_data] Downloading package stopwords to\n[nltk_data]     C:\\Users\\Admin\\AppData\\Roaming\\nltk_data...\n[nltk_data]   Package stopwords is already up-to-date!\n[nltk_data] Downloading package wordnet to\n[nltk_data]     C:\\Users\\Admin\\AppData\\Roaming\\nltk_data...\n[nltk_data]   Package wordnet is already up-to-date!\n"
    }
   ],
   "source": [
    "## Lematisasi\n",
    "from nltk.stem.wordnet import WordNetLemmatizer #untuk Bahasa Inggris\n",
    "from Sastrawi.Stemmer.StemmerFactory import StemmerFactory #untuk Bahasa Indonesia\n",
    "## stopwords\n",
    "from nltk.corpus import stopwords\n",
    "## punctuation\n",
    "import string\n",
    "import re\n",
    "\n",
    "#-----------\n",
    "import nltk\n",
    "nltk.download('stopwords')\n",
    "nltk.download('wordnet')\n",
    " \n",
    "punc = set(string.punctuation)\n",
    " \n",
    "#lemmatisasi untuk bahasa Indonesia\n",
    "factory = StemmerFactory()\n",
    "stemmer = factory.create_stemmer()"
   ]
  },
  {
   "cell_type": "code",
   "execution_count": 5,
   "metadata": {},
   "outputs": [],
   "source": [
    "def clean_text(text):\n",
    "    text = text.lower()\n",
    "    text = text.translate(str.maketrans(\"\",\"\",string.punctuation))\n",
    "    text = re.sub(r\"\\d+\", \"\", text)\n",
    "    text = text.split()\n",
    "    text = [stemmer.stem(word) for word in text] \n",
    "    return ' '.join(text)"
   ]
  },
  {
   "cell_type": "code",
   "execution_count": 6,
   "metadata": {},
   "outputs": [],
   "source": [
    "review['clean_text'] = review['Review'].apply(clean_text)"
   ]
  },
  {
   "cell_type": "code",
   "execution_count": 7,
   "metadata": {},
   "outputs": [],
   "source": [
    "from sklearn.feature_extraction.text import CountVectorizer\n",
    "vectorizer = CountVectorizer()\n",
    "bag_of_word = vectorizer.fit_transform(review['clean_text'])"
   ]
  },
  {
   "cell_type": "code",
   "execution_count": 8,
   "metadata": {},
   "outputs": [],
   "source": [
    "from sklearn.feature_extraction.text import TfidfTransformer\n",
    "tfidf = TfidfTransformer().fit(bag_of_word)\n",
    "tfidf = tfidf.transform(bag_of_word)"
   ]
  },
  {
   "source": [
    "# modeling"
   ],
   "cell_type": "markdown",
   "metadata": {}
  },
  {
   "cell_type": "code",
   "execution_count": 9,
   "metadata": {},
   "outputs": [],
   "source": [
    "review['positivity'] = review['Rating'].apply(lambda x : 1 if x>3 else -1 if x<3 else 0)"
   ]
  },
  {
   "cell_type": "code",
   "execution_count": 10,
   "metadata": {},
   "outputs": [],
   "source": [
    "from sklearn.model_selection import train_test_split\n",
    "x_train, x_test, y_train, y_test = train_test_split(tfidf, review['positivity'], test_size = 0.3, random_state = 22)"
   ]
  },
  {
   "cell_type": "code",
   "execution_count": 11,
   "metadata": {},
   "outputs": [],
   "source": [
    "from sklearn.naive_bayes import MultinomialNB\n",
    "from sklearn.linear_model import LogisticRegression\n",
    "from sklearn.neighbors import KNeighborsClassifier\n",
    "from sklearn.linear_model import SGDClassifier\n",
    "from sklearn.tree import DecisionTreeClassifier\n",
    "from sklearn.ensemble import RandomForestClassifier\n",
    "\n",
    "from sklearn.metrics import classification_report"
   ]
  },
  {
   "cell_type": "code",
   "execution_count": 12,
   "metadata": {
    "tags": []
   },
   "outputs": [
    {
     "output_type": "stream",
     "name": "stdout",
     "text": "              precision    recall  f1-score   support\n\n          -1       0.50      0.01      0.02       284\n           0       0.67      0.02      0.04       431\n           1       0.69      1.00      0.82      1576\n\n    accuracy                           0.69      2291\n   macro avg       0.62      0.34      0.29      2291\nweighted avg       0.66      0.69      0.57      2291\n\n"
    }
   ],
   "source": [
    "rfc = RandomForestClassifier()\n",
    "rfc.fit(x_train, y_train)\n",
    "predict = rfc.predict(x_test)\n",
    "print(classification_report(y_test, predict)) "
   ]
  },
  {
   "cell_type": "code",
   "execution_count": 13,
   "metadata": {
    "tags": []
   },
   "outputs": [
    {
     "output_type": "stream",
     "name": "stdout",
     "text": "              precision    recall  f1-score   support\n\n          -1       0.60      0.25      0.36       284\n           0       0.45      0.19      0.27       431\n           1       0.75      0.95      0.84      1576\n\n    accuracy                           0.72      2291\n   macro avg       0.60      0.46      0.49      2291\nweighted avg       0.68      0.72      0.67      2291\n\n"
    }
   ],
   "source": [
    "logreg = LogisticRegression()\n",
    "logreg.fit(x_train, y_train)\n",
    "predict = logreg.predict(x_test)\n",
    "print(classification_report(y_test, predict))  "
   ]
  },
  {
   "cell_type": "code",
   "execution_count": 14,
   "metadata": {
    "tags": []
   },
   "outputs": [
    {
     "output_type": "stream",
     "name": "stdout",
     "text": "              precision    recall  f1-score   support\n\n          -1       0.00      0.00      0.00       284\n           0       0.00      0.00      0.00       431\n           1       0.69      1.00      0.82      1576\n\n    accuracy                           0.69      2291\n   macro avg       0.23      0.33      0.27      2291\nweighted avg       0.47      0.69      0.56      2291\n\n"
    }
   ],
   "source": [
    "mul_nb = MultinomialNB()\n",
    "mul_nb.fit(x_train, y_train)\n",
    "predict = mul_nb.predict(x_test)\n",
    "print(classification_report(y_test, predict)) "
   ]
  },
  {
   "source": [
    "# Hilangin lemmatisasi"
   ],
   "cell_type": "markdown",
   "metadata": {}
  },
  {
   "cell_type": "code",
   "execution_count": 15,
   "metadata": {},
   "outputs": [],
   "source": [
    "stop = list(set(stopwords.words('indonesian'))) \n",
    "stop.extend(review['Brand'].apply(lambda x : x.lower()).unique().tolist())\n",
    "punc = set(string.punctuation)\n",
    " \n",
    "#lemmatisasi untuk bahasa Indonesia\n",
    "factory = StemmerFactory()\n",
    "stemmer = factory.create_stemmer()"
   ]
  },
  {
   "cell_type": "code",
   "execution_count": 28,
   "metadata": {},
   "outputs": [
    {
     "output_type": "execute_result",
     "data": {
      "text/plain": "'Produk the best banget jatuh cinta sama ini produk gak tau mau bilang apa lagi tiap pagi sama malem sllu aku pake sblm pake day cream hasilnya sebagus itu tuhaaan ❤️❤️❤️ karena waktu di kaish itu barang endorse tapi ternyata aku jatuh cinta banget'"
     },
     "metadata": {},
     "execution_count": 28
    }
   ],
   "source": [
    "review['Review'][14]"
   ]
  },
  {
   "cell_type": "code",
   "execution_count": 29,
   "metadata": {},
   "outputs": [
    {
     "output_type": "execute_result",
     "data": {
      "text/plain": "'produk the best banget jatuh cinta produk gak tau bilang pagi malem sllu pake sblm pake day cream hasilnya sebagus tuhaaan ❤️❤️❤️ kaish barang endorse jatuh cinta banget'"
     },
     "metadata": {},
     "execution_count": 29
    }
   ],
   "source": [
    "review['clean_text'][14]"
   ]
  },
  {
   "cell_type": "code",
   "execution_count": 16,
   "metadata": {},
   "outputs": [],
   "source": [
    "def clean_text(text):\n",
    "    text = text.lower()\n",
    "    text = text.translate(str.maketrans(\"\",\"\",string.punctuation))\n",
    "    text = re.sub(r\"\\d+\", \"\", text)\n",
    "    text = text.split()\n",
    "    text = [word for word in text if word not in stop] \n",
    "    return ' '.join(text)"
   ]
  },
  {
   "cell_type": "code",
   "execution_count": 17,
   "metadata": {},
   "outputs": [],
   "source": [
    "review['clean_text'] = review['Review'].apply(clean_text)"
   ]
  },
  {
   "cell_type": "code",
   "execution_count": 19,
   "metadata": {},
   "outputs": [],
   "source": [
    "from sklearn.feature_extraction.text import CountVectorizer\n",
    "vectorizer = CountVectorizer()\n",
    "bag_of_word = vectorizer.fit_transform(review['clean_text'])"
   ]
  },
  {
   "cell_type": "code",
   "execution_count": 20,
   "metadata": {},
   "outputs": [],
   "source": [
    "from sklearn.feature_extraction.text import TfidfTransformer\n",
    "tfidf = TfidfTransformer().fit(bag_of_word)\n",
    "tfidf = tfidf.transform(bag_of_word)"
   ]
  },
  {
   "cell_type": "code",
   "execution_count": 21,
   "metadata": {},
   "outputs": [],
   "source": [
    "from sklearn.model_selection import train_test_split\n",
    "x_train, x_test, y_train, y_test = train_test_split(tfidf, review['positivity'], test_size = 0.3, random_state = 22)"
   ]
  },
  {
   "cell_type": "code",
   "execution_count": 22,
   "metadata": {
    "tags": []
   },
   "outputs": [
    {
     "output_type": "stream",
     "name": "stdout",
     "text": "              precision    recall  f1-score   support\n\n          -1       0.60      0.01      0.02       284\n           0       0.64      0.02      0.03       431\n           1       0.69      1.00      0.82      1576\n\n    accuracy                           0.69      2291\n   macro avg       0.64      0.34      0.29      2291\nweighted avg       0.67      0.69      0.57      2291\n\n"
    }
   ],
   "source": [
    "rfc = RandomForestClassifier()\n",
    "rfc.fit(x_train, y_train)\n",
    "predict = rfc.predict(x_test)\n",
    "print(classification_report(y_test, predict)) "
   ]
  },
  {
   "cell_type": "code",
   "execution_count": 23,
   "metadata": {
    "tags": []
   },
   "outputs": [
    {
     "output_type": "stream",
     "name": "stdout",
     "text": "              precision    recall  f1-score   support\n\n          -1       0.62      0.21      0.31       284\n           0       0.47      0.17      0.25       431\n           1       0.75      0.96      0.84      1576\n\n    accuracy                           0.72      2291\n   macro avg       0.61      0.45      0.47      2291\nweighted avg       0.68      0.72      0.66      2291\n\n"
    }
   ],
   "source": [
    "logreg = LogisticRegression()\n",
    "logreg.fit(x_train, y_train)\n",
    "predict = logreg.predict(x_test)\n",
    "print(classification_report(y_test, predict))  "
   ]
  },
  {
   "cell_type": "code",
   "execution_count": 24,
   "metadata": {
    "tags": []
   },
   "outputs": [
    {
     "output_type": "stream",
     "name": "stdout",
     "text": "              precision    recall  f1-score   support\n\n          -1       0.00      0.00      0.00       284\n           0       0.00      0.00      0.00       431\n           1       0.69      1.00      0.81      1576\n\n    accuracy                           0.69      2291\n   macro avg       0.23      0.33      0.27      2291\nweighted avg       0.47      0.69      0.56      2291\n\n"
    }
   ],
   "source": [
    "mul_nb = MultinomialNB()\n",
    "mul_nb.fit(x_train, y_train)\n",
    "predict = mul_nb.predict(x_test)\n",
    "print(classification_report(y_test, predict)) "
   ]
  },
  {
   "cell_type": "code",
   "execution_count": null,
   "metadata": {},
   "outputs": [],
   "source": []
  }
 ]
}